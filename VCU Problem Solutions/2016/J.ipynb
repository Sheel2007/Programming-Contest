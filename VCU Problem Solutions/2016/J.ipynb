{
 "cells": [
  {
   "cell_type": "code",
   "execution_count": 16,
   "metadata": {},
   "outputs": [],
   "source": [
    "#sample input"
   ]
  },
  {
   "cell_type": "code",
   "execution_count": 17,
   "metadata": {},
   "outputs": [],
   "source": [
    "# 100 50 9 1 -> 200\n",
    "# 100 50 9 2 -> 550\n",
    "# 100 50 9 3 -> 1625"
   ]
  },
  {
   "cell_type": "code",
   "execution_count": 18,
   "metadata": {},
   "outputs": [],
   "source": [
    "#E, p, r, Y \n",
    "from math import floor\n",
    "def rabbit_population(population, killed_percentage, breed_rate, year):\n",
    "    #summer year 1 will just be the population of both\n",
    "    if year == 1: return population*2\n",
    "    #start at the summer, get the population\n",
    "    male = population \n",
    "    female = population\n",
    "    for i in range(year-1):\n",
    "        #start at winter, should end at summer\n",
    "        print(i+1)\n",
    "        #kill off during winter\n",
    "        male -= male*killed_percentage*0.01\n",
    "        female -= female*killed_percentage*0.01\n",
    "        #repopulate during spring\n",
    "        male += floor(female*floor(breed_rate/2))\n",
    "        #if there is an odd number females get the remainder\n",
    "        female += floor(female*(floor(breed_rate/2)+breed_rate%2))\n",
    "        #floor so we never get a float\n",
    "    #return total population: male and female\n",
    "    return male+female\n",
    "\n",
    "\n"
   ]
  },
  {
   "cell_type": "code",
   "execution_count": 20,
   "metadata": {},
   "outputs": [
    {
     "name": "stdout",
     "output_type": "stream",
     "text": [
      "200\n",
      "1\n",
      "550.0\n",
      "1\n",
      "2\n",
      "1625.0\n"
     ]
    }
   ],
   "source": [
    "print(rabbit_population(100, 50, 9, 1))\n",
    "print(rabbit_population(100, 50, 9, 2))\n",
    "print(rabbit_population(100, 50, 9, 3))"
   ]
  }
 ],
 "metadata": {
  "kernelspec": {
   "display_name": "base",
   "language": "python",
   "name": "python3"
  },
  "language_info": {
   "codemirror_mode": {
    "name": "ipython",
    "version": 3
   },
   "file_extension": ".py",
   "mimetype": "text/x-python",
   "name": "python",
   "nbconvert_exporter": "python",
   "pygments_lexer": "ipython3",
   "version": "3.9.7"
  },
  "orig_nbformat": 4,
  "vscode": {
   "interpreter": {
    "hash": "ad2bdc8ecc057115af97d19610ffacc2b4e99fae6737bb82f5d7fb13d2f2c186"
   }
  }
 },
 "nbformat": 4,
 "nbformat_minor": 2
}
