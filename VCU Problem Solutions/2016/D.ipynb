{
 "cells": [
  {
   "cell_type": "code",
   "execution_count": null,
   "metadata": {},
   "outputs": [],
   "source": [
    "#sample input"
   ]
  },
  {
   "cell_type": "code",
   "execution_count": null,
   "metadata": {},
   "outputs": [],
   "source": [
    "#vertices (1.0 1.0 2.0 2.0 3.0 1.0)\n",
    "#number of pixels\n",
    "#coordinates to see if inside of triangle\n",
    "#2.0, 1.5\n",
    "#0.5, 1.5"
   ]
  },
  {
   "cell_type": "code",
   "execution_count": 59,
   "metadata": {},
   "outputs": [],
   "source": [
    "def inside_triangle(triang_coords, n_pixel, pixel_coords_set):\n",
    "    #generate the functions\n",
    "    class line_func:\n",
    "        #i set up some counterinuitive_naming: y_val and x_val are the inputs, not the outputs\n",
    "        def __init__(self, slope, offset):\n",
    "            self.slope = slope\n",
    "            self.offset = offset\n",
    "        def x_val(self, coords):\n",
    "            x_val = coords[0]\n",
    "            if slope == 'INF':\n",
    "                #indicate it's a straight line\n",
    "                return y_val\n",
    "            return(x_val*self.slope + self.offset)\n",
    "        def y_val(self, coords):\n",
    "            y_val = coords[0]\n",
    "            #check if slope is inf\n",
    "                #just return the x value\n",
    "            if self.slope == 0:\n",
    "                return y_val\n",
    "            return((y_val-self.offset)/self.slope)\n",
    "\n",
    "    coord_func = []\n",
    "    topvert = triang_coords[0][1]\n",
    "    bottomvert = triang_coords[0][1]\n",
    "\n",
    "    for indx, coord in enumerate(triang_coords):\n",
    "        if coord[1] > topvert: topvert == coord[1]\n",
    "        if coord[1] < bottomvert: bottomvert == coord[1]\n",
    "        #sliced so we skip over theo nes that already made their connections\n",
    "        for other_coord in triang_coords[indx+1:]:\n",
    "            #find the slope\n",
    "            if other_coord[0] > coord[0]:\n",
    "                #check if straight line up\n",
    "                if (other_coord[0]-coord[0] == 0):\n",
    "                    slope = 'INF'\n",
    "                else:\n",
    "                    slope = (other_coord[1]-coord[1])/(other_coord[0]-coord[0])\n",
    "            else: \n",
    "                print(other_coord)\n",
    "                print(coord)\n",
    "                #check if divisor equals zero\n",
    "                if (coord[0]-other_coord[0]) == 0:\n",
    "                    slope = 'INF'\n",
    "                else:\n",
    "                    slope = (coord[1]-other_coord[1])/(coord[0]-other_coord[0])\n",
    "            offset = coord[1]-(coord[0]*slope)\n",
    "            #add funciton class to list of coord lines\n",
    "            coord_func.append(line_func(slope, offset))\n",
    "    #check each pixel\n",
    "    for pixel_coords in pixel_coords_set:\n",
    "        #check if y_coord is in between x\n",
    "        #set default values\n",
    "        #i set up some counterinuitive_naming: y_val and x_val are the inputs, not the outputs\n",
    "        #from lowest x value on that place to the highest x value\n",
    "\n",
    "        #will have to check if its in between each \"line\" in the triangle\n",
    "        isOut = False\n",
    "        for indx, line in enumerate(coord_func):\n",
    "            isOut = False\n",
    "            for other_line in coord_func[indx+1:]:\n",
    "                #check if in between x values\n",
    "                #first check x\n",
    "                x_val = other_line.y_val(pixel_coords)\n",
    "                dif = other_line.y_val(pixel_coords)-line.y_val(pixel_coords)\n",
    "                if line.y_val(pixel_coords) > x_val:\n",
    "                    x_val = line.y_val(pixel_coords)\n",
    "                    dif = x_val - other_line.y_val(pixel_coords)\n",
    "                #greatest x value found   \n",
    "                if (pixel_coords[0] <  x_val) & (pixel_coords[0] > x_val-dif):\n",
    "                    pass \n",
    "                else: \n",
    "                    isOut = True\n",
    "                    continue\n",
    "\n",
    "                # now check y\n",
    "                y_val = other_line.x_val(pixel_coords)\n",
    "                dif = other_line.x_val(pixel_coords)-line.x_val(pixel_coords)\n",
    "                if line.x_val(pixel_coords) > y_val:\n",
    "                    y_val = line.x_val(pixel_coords)\n",
    "                    dif = y_val - other_line.x_val(pixel_coords)\n",
    "                #greatest x value found   \n",
    "                if (pixel_coords[1] <  y_val) and( pixel_coords[1] > y_val-dif):\n",
    "                    pass \n",
    "                else: \n",
    "                    isOut = True\n",
    "                    continue\n",
    "            if isOut:\n",
    "                print(\"0\")\n",
    "                break\n",
    "            if not (isOut):\n",
    "                print(1)\n",
    "\n",
    "        \n",
    "        \n"
   ]
  },
  {
   "cell_type": "code",
   "execution_count": 60,
   "metadata": {},
   "outputs": [
    {
     "name": "stdout",
     "output_type": "stream",
     "text": [
      "0\n",
      "0\n"
     ]
    }
   ],
   "source": [
    "inside_triangle(((1.0, 1.0), (2.0, 2.0), (3.0, 1.0)), 2, ((2.0,1.5),(0.5,1.5)))"
   ]
  },
  {
   "cell_type": "code",
   "execution_count": null,
   "metadata": {},
   "outputs": [],
   "source": []
  }
 ],
 "metadata": {
  "kernelspec": {
   "display_name": "base",
   "language": "python",
   "name": "python3"
  },
  "language_info": {
   "codemirror_mode": {
    "name": "ipython",
    "version": 3
   },
   "file_extension": ".py",
   "mimetype": "text/x-python",
   "name": "python",
   "nbconvert_exporter": "python",
   "pygments_lexer": "ipython3",
   "version": "3.9.7"
  },
  "orig_nbformat": 4,
  "vscode": {
   "interpreter": {
    "hash": "ad2bdc8ecc057115af97d19610ffacc2b4e99fae6737bb82f5d7fb13d2f2c186"
   }
  }
 },
 "nbformat": 4,
 "nbformat_minor": 2
}
