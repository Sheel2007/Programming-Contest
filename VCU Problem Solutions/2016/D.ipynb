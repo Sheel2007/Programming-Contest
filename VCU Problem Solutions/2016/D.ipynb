{
 "cells": [
  {
   "cell_type": "code",
   "execution_count": null,
   "metadata": {},
   "outputs": [],
   "source": [
    "#sample input"
   ]
  },
  {
   "cell_type": "code",
   "execution_count": null,
   "metadata": {},
   "outputs": [],
   "source": [
    "#vertices (1.0 1.0 2.0 2.0 3.0 1.0)\n",
    "#number of pixels\n",
    "#coordinates to see if inside of triangle\n",
    "#2.0, 1.5\n",
    "#0.5, 1.5"
   ]
  },
  {
   "cell_type": "code",
   "execution_count": 3,
   "metadata": {},
   "outputs": [
    {
     "name": "stdout",
     "output_type": "stream",
     "text": [
      "1 to 2:\n",
      "1 to 3:\n",
      "2 to 3:\n"
     ]
    }
   ],
   "source": [
    "#test logic\n",
    "l = [1,2,3]\n",
    "for indx, num in enumerate(l):\n",
    "    for other_num in l[indx+1:]:\n",
    "        print(f\"{num} to {other_num}:\")"
   ]
  },
  {
   "cell_type": "code",
   "execution_count": 56,
   "metadata": {},
   "outputs": [],
   "source": [
    "def inside_triangle(triang_coords, n_pixel, pixel_coords_set):\n",
    "    #generate the functions\n",
    "    class line_func:\n",
    "        #i set up some counterinuitive_naming: y_val and x_val are the inputs, not the outputs\n",
    "        def __init__(self, slope, offset, x_interval, y_interval):\n",
    "            self.slope = slope\n",
    "            self.offset = offset\n",
    "            self.domain = x_interval\n",
    "            self.range = y_interval\n",
    "        def x_val(self, coords):\n",
    "            x_val = coords[0]\n",
    "            if slope == 'INF':\n",
    "                #indicate it's a straight line\n",
    "                #so just return the x value\n",
    "                return \n",
    "            return(x_val*self.slope + self.offset)\n",
    "        def y_val(self, coords):\n",
    "            y_val = coords[0]\n",
    "            #check if slope is inf\n",
    "                #just return the x value\n",
    "            if self.slope == 0:\n",
    "                return y_val\n",
    "            return((y_val-self.offset)/self.slope)\n",
    "        def __repr__(self):\n",
    "            return(f\"{self.slope}x + {self.offset} over the x-interval {self.domain}, and the y-interval {self.range}\")\n",
    "    \n",
    "    def in_between(num, interval):\n",
    "        if num > interval[0] and num < interval[1]:\n",
    "            return True \n",
    "        return False \n",
    "\n",
    "    coord_func = []\n",
    "    topvert = triang_coords[0][1]\n",
    "    bottomvert = triang_coords[0][1]\n",
    "    #print(triang_coords)\n",
    "    for indx, coord in enumerate(triang_coords):\n",
    "        if coord[1] > topvert: topvert == coord[1]\n",
    "        if coord[1] < bottomvert: bottomvert == coord[1]\n",
    "        #sliced so we skip over theo nes that already made their connections\n",
    "        for other_coord in triang_coords[indx+1:]:\n",
    "            #print(f\"{coord} to {other_coord}\")\n",
    "            #find the slope\n",
    "            if other_coord[0] > coord[0]:\n",
    "                #check if straight line up\n",
    "                if (other_coord[0]-coord[0] == 0):\n",
    "                    slope = 'INF'\n",
    "                else:\n",
    "                    slope = (other_coord[1]-coord[1])/(other_coord[0]-coord[0])\n",
    "            else: \n",
    "                print(other_coord)\n",
    "                print(coord)\n",
    "                #check if divisor equals zero\n",
    "                if (coord[0]-other_coord[0]) == 0:\n",
    "                    slope = 'INF'\n",
    "                else:\n",
    "                    slope = (coord[1]-other_coord[1])/(coord[0]-other_coord[0])\n",
    "            offset = 0\n",
    "            if slope != 'INF':\n",
    "                offset = coord[1]-(coord[0])*slope\n",
    "            #add funciton class to list of coord lines\n",
    "            #print(f\"for those coordinates {line_func(slope,offset, (coord[0], other_coord[0]), (coord[1], other_coord[1]))}\")\n",
    "            coord_func.append(line_func(slope,offset, (coord[0], other_coord[0]), (coord[1], other_coord[1])))\n",
    "\n",
    "    #print(coord_func)\n",
    "    for line in coord_func:\n",
    "        if line == None: \n",
    "            print(\"No line\")\n",
    "            continue\n",
    "        print(line)\n",
    "    #    print(line.slope)\n",
    "    #    print(line.offset)\n",
    "    #    print(line)\n",
    "    #check each pixel\n",
    "\n",
    "    for pixel_coords in pixel_coords_set:\n",
    "        #this should just be a matter of in betweens\n",
    "        is_in = True\n",
    "        y_vals = []\n",
    "        print(f\"coordinates {pixel_coords}\")\n",
    "        for line in coord_func:\n",
    "\n",
    "        #    print(line)\n",
    "        #    print(line.domain)\n",
    "        #    print(pixel_coords[0])\n",
    "            if in_between(pixel_coords[0], line.domain):\n",
    "                y_vals.append(line.x_val(pixel_coords))\n",
    "        if len(y_vals) == 0:\n",
    "            print(\"Wasn't in any Y intervals\")\n",
    "            is_in = False\n",
    "        else:\n",
    "            min_y = min(y_vals)\n",
    "            max_y = max(y_vals)\n",
    "        \n",
    "        x_vals = []\n",
    "        for line in coord_func:\n",
    "            if in_between(pixel_coords[1], line.range):\n",
    "                x_vals.append(line.y_val(pixel_coords))\n",
    "        if len(x_vals) == 0:\n",
    "            print(\"Wasn't in any X intervals\")\n",
    "            is_in = False\n",
    "        else:\n",
    "            min_x = min(x_vals)\n",
    "            max_x = min(x_vals)\n",
    "        print(min_x)\n",
    "        print(max_x)\n",
    "        print(min_y)\n",
    "        print(max_y)\n",
    "        x_clause = (pixel_coords[0] > min_x and pixel_coords[0] < max_x)\n",
    "        y_clause = (pixel_coords[1] > min_y and pixel_coords[1] < max_y)\n",
    "        if not(x_clause and y_clause):\n",
    "            print(\"Didn't satisfy x caluse or yclause\")\n",
    "            is_in = False\n",
    "        if is_in: print(1)\n",
    "        else: print(0)\n",
    "            \n",
    "        \n"
   ]
  },
  {
   "cell_type": "code",
   "execution_count": 57,
   "metadata": {},
   "outputs": [
    {
     "name": "stdout",
     "output_type": "stream",
     "text": [
      "1.0x + 0.0 over the x-interval (1.0, 2.0), and the y-interval (1.0, 2.0)\n",
      "0.0x + 1.0 over the x-interval (1.0, 3.0), and the y-interval (1.0, 1.0)\n",
      "-1.0x + 4.0 over the x-interval (2.0, 3.0), and the y-interval (2.0, 1.0)\n"
     ]
    }
   ],
   "source": [
    "inside_triangle(((1.0, 1.0), (2.0, 2.0), (3.0, 1.0)), 2, ((2.0,1.5),(0.5,1.5)))"
   ]
  }
 ],
 "metadata": {
  "kernelspec": {
   "display_name": "base",
   "language": "python",
   "name": "python3"
  },
  "language_info": {
   "codemirror_mode": {
    "name": "ipython",
    "version": 3
   },
   "file_extension": ".py",
   "mimetype": "text/x-python",
   "name": "python",
   "nbconvert_exporter": "python",
   "pygments_lexer": "ipython3",
   "version": "3.9.7"
  },
  "orig_nbformat": 4,
  "vscode": {
   "interpreter": {
    "hash": "ad2bdc8ecc057115af97d19610ffacc2b4e99fae6737bb82f5d7fb13d2f2c186"
   }
  }
 },
 "nbformat": 4,
 "nbformat_minor": 2
}
